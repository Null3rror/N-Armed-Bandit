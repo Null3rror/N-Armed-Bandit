{
 "cells": [
  {
   "cell_type": "markdown",
   "metadata": {},
   "source": [
    "# Q1"
   ]
  },
  {
   "cell_type": "code",
   "execution_count": 1,
   "metadata": {},
   "outputs": [],
   "source": [
    "import numpy as np\n",
    "import matplotlib.pyplot as plt"
   ]
  },
  {
   "cell_type": "code",
   "execution_count": 14,
   "metadata": {},
   "outputs": [
    {
     "ename": "ModuleNotFoundError",
     "evalue": "No module named 'amalearn'",
     "output_type": "error",
     "traceback": [
      "\u001b[1;31m---------------------------------------------------------------------------\u001b[0m",
      "\u001b[1;31mModuleNotFoundError\u001b[0m                       Traceback (most recent call last)",
      "\u001b[1;32m~\\AppData\\Local\\Temp/ipykernel_15624/2402213050.py\u001b[0m in \u001b[0;36m<module>\u001b[1;34m\u001b[0m\n\u001b[1;32m----> 1\u001b[1;33m \u001b[1;32mfrom\u001b[0m \u001b[0mamalearn\u001b[0m \u001b[1;32mimport\u001b[0m \u001b[1;33m*\u001b[0m\u001b[1;33m\u001b[0m\u001b[1;33m\u001b[0m\u001b[0m\n\u001b[0m",
      "\u001b[1;31mModuleNotFoundError\u001b[0m: No module named 'amalearn'"
     ]
    }
   ],
   "source": [
    "from amalearn import *"
   ]
  },
  {
   "cell_type": "code",
   "execution_count": 10,
   "metadata": {},
   "outputs": [
    {
     "name": "stdout",
     "output_type": "stream",
     "text": [
      "D:/Edu/Computer Scinece and Engineering/RL/HWs/Mine/HW2/My Sol/N-Armed-Bandit/amalearn/amalearn/amalearn\n",
      "d:\\Edu\\Computer Scinece and Engineering\\RL\\HWs\\Mine\\HW2\\My Sol\\N-Armed-Bandit\\agents\n",
      "C:\\Users\\sepeh\\AppData\\Local\\Programs\\Python\\Python39\\python39.zip\n",
      "C:\\Users\\sepeh\\AppData\\Local\\Programs\\Python\\Python39\\DLLs\n",
      "C:\\Users\\sepeh\\AppData\\Local\\Programs\\Python\\Python39\\lib\n",
      "C:\\Users\\sepeh\\AppData\\Local\\Programs\\Python\\Python39\n",
      "\n",
      "C:\\Users\\sepeh\\AppData\\Local\\Programs\\Python\\Python39\\lib\\site-packages\n",
      "C:\\Users\\sepeh\\AppData\\Local\\Programs\\Python\\Python39\\lib\\site-packages\\win32\n",
      "C:\\Users\\sepeh\\AppData\\Local\\Programs\\Python\\Python39\\lib\\site-packages\\win32\\lib\n",
      "C:\\Users\\sepeh\\AppData\\Local\\Programs\\Python\\Python39\\lib\\site-packages\\Pythonwin\n",
      "C:\\Users\\sepeh\\AppData\\Local\\Programs\\Python\\Python39\\lib\\site-packages\\IPython\\extensions\n",
      "C:\\Users\\sepeh\\.ipython\n"
     ]
    }
   ],
   "source": [
    "import sys\n",
    "# sys.path.insert(0, 'D:/Edu/Computer Scinece and Engineering/RL/HWs/Mine/HW2/My Sol/N-Armed-Bandit/amalearn/amalearn/amalearn')\n",
    "for line in sys.path:\n",
    "    print(line)"
   ]
  },
  {
   "cell_type": "code",
   "execution_count": 7,
   "metadata": {},
   "outputs": [],
   "source": [
    "\n",
    "a = 7\n",
    "b = a - 2\n",
    "c = b - 1\n",
    "d = 6"
   ]
  },
  {
   "cell_type": "code",
   "execution_count": null,
   "metadata": {},
   "outputs": [],
   "source": [
    "means = [a, b, c]\n",
    "stds = [1, 2, 1]\n",
    "rewards = [GaussianReward(mean, std) for mean, std in zip(means, stds)]\n",
    "rewards.append()"
   ]
  },
  {
   "cell_type": "markdown",
   "metadata": {},
   "source": [
    "## 1)"
   ]
  },
  {
   "cell_type": "code",
   "execution_count": null,
   "metadata": {},
   "outputs": [],
   "source": [
    "num_runs = 20                 \n",
    "num_steps = 1000"
   ]
  },
  {
   "cell_type": "code",
   "execution_count": null,
   "metadata": {},
   "outputs": [],
   "source": [
    "all_rewards = np.zeros((num_runs, num_steps))\n",
    "\n",
    "for run in range(num_runs):\n",
    "    np.random.seed(run)\n",
    "\n",
    "    for i in range(num_steps):\n",
    "        pass"
   ]
  }
 ],
 "metadata": {
  "interpreter": {
   "hash": "ba5093858d8c59d928244cd95eecd0b981d86d61f6fe96a3a34899b040ddd848"
  },
  "kernelspec": {
   "display_name": "Python 3.9.4 64-bit",
   "name": "python3"
  },
  "language_info": {
   "codemirror_mode": {
    "name": "ipython",
    "version": 3
   },
   "file_extension": ".py",
   "mimetype": "text/x-python",
   "name": "python",
   "nbconvert_exporter": "python",
   "pygments_lexer": "ipython3",
   "version": "3.9.4"
  },
  "orig_nbformat": 4
 },
 "nbformat": 4,
 "nbformat_minor": 2
}
